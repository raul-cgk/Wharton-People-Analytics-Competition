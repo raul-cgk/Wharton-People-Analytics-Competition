{
 "cells": [
  {
   "attachments": {},
   "cell_type": "markdown",
   "metadata": {
    "collapsed": false
   },
   "source": [
    "### Data Preprocessing\n",
    "\n",
    "1. Initialization\n",
    "2. Combination with region dataset\n",
    "3. Feature generation\n",
    "4. Removal of misleading data\n",
    "5. Column transformation\n",
    "6. Dropping of unnecessary columns\n",
    "\n",
    "Output:\n",
    "- One dataset ready to be fed into numerical-based models.\n",
    "- An additional dataset for text based models e.g. XGBoost."
   ]
  },
  {
   "attachments": {},
   "cell_type": "markdown",
   "metadata": {},
   "source": [
    "**The data used for this project is confidential and owned by TFA so all outputs have been cleared out.**"
   ]
  },
  {
   "cell_type": "markdown",
   "metadata": {
    "collapsed": false
   },
   "source": [
    "**Initialization**"
   ]
  },
  {
   "cell_type": "code",
   "execution_count": null,
   "metadata": {
    "collapsed": false
   },
   "outputs": [],
   "source": [
    "import pandas as pd\n",
    "import numpy as np"
   ]
  },
  {
   "cell_type": "code",
   "execution_count": null,
   "metadata": {
    "collapsed": false
   },
   "outputs": [],
   "source": [
    "# Load original dataset\n",
    "df = pd.read_csv('WPAC_2023_CandidateRecords.csv')"
   ]
  },
  {
   "cell_type": "code",
   "execution_count": null,
   "metadata": {},
   "outputs": [],
   "source": [
    "# Change ComfirmOffer_date to ConfirmOffer_date\n",
    "df.rename(columns={'ComfirmOffer_date': 'ConfirmOffer_date', 'Progress_4_Comfirm_Offer': 'Progress_4_Confirm_Offer'}, inplace=True)"
   ]
  },
  {
   "cell_type": "markdown",
   "metadata": {
    "collapsed": false
   },
   "source": [
    "**Combine with regional data**"
   ]
  },
  {
   "cell_type": "code",
   "execution_count": null,
   "metadata": {
    "collapsed": false
   },
   "outputs": [],
   "source": [
    "# load regional dataset\n",
    "regional_df = pd.read_csv('Region_Cost.csv')\n",
    "\n",
    "# reindex regional dataset\n",
    "regional_df = regional_df.reset_index()\n",
    "regional_df = pd.melt(regional_df, id_vars='Region', value_vars=['2016', '2017', '2018', '2019', '2020', '2021', '2022','2023'])\n",
    "regional_df['variable']= regional_df['variable'].astype(int)\n",
    "\n",
    "# merge datasets by column 'Region' and 'Match_region'\n",
    "df = pd.merge(df, regional_df, left_on=['Match_region', 'App_year'], right_on=['Region', 'variable'], how='left')\n",
    "df = df.rename(columns={'value': 'Cost'})"
   ]
  },
  {
   "cell_type": "markdown",
   "metadata": {
    "collapsed": false
   },
   "source": [
    "**Feature generation**"
   ]
  },
  {
   "cell_type": "code",
   "execution_count": null,
   "metadata": {
    "collapsed": false
   },
   "outputs": [],
   "source": [
    "# Application completion time\n",
    "df['App_submit_date'] = df['App_submit_date'].replace(np.NAN,0)\n",
    "df['App_submit_date'] = df['App_submit_date'].str.replace('-', '').astype(np.float).astype(\"Int32\")\n",
    "df['App_start_date'] = df['App_start_date'].replace(np.NAN,0)\n",
    "df['App_start_date'] = df['App_start_date'].str.replace('-', '').astype(np.float).astype(\"Int32\")\n",
    "df['app_completion_days'] = df[\"App_submit_date\"] - df[\"App_start_date\"]"
   ]
  },
  {
   "cell_type": "code",
   "execution_count": null,
   "metadata": {
    "collapsed": false
   },
   "outputs": [],
   "source": [
    "# Amount of fields filled\n",
    "self_filled_cols = [\"career_level\", \"UG_school_name\", \"UG_school_selectivity\", \"UG_major_byGroup\", \"UG_major_bySchool\",\n",
    "                    \"UG_major_minor_STEM\",\"UG_GPA\", \"UG_sports\",\"UG_PellGrant\",\"LIC_served_self_report\",\n",
    "                    \"Leadership_role\",\"family_responsibility\",\"Preference_Region_level\",\"Preference_Region_rank\",\n",
    "                    \"Preferences_Subject_level\"]\n",
    "amount_of_cols = len(self_filled_cols)\n",
    "df[\"filled_cols_count\"] = amount_of_cols-df[self_filled_cols].isna().sum(axis = 1)"
   ]
  },
  {
   "cell_type": "code",
   "execution_count": null,
   "metadata": {},
   "outputs": [],
   "source": [
    "# Binary amount of fields filled (second option)\n",
    "# If field_cols_count is 15, then 1, if 14 or less, then 0\n",
    "df['filled_cols_count_bin'] = np.where(df['filled_cols_count'] == 15, 1, 0)"
   ]
  },
  {
   "cell_type": "code",
   "execution_count": null,
   "metadata": {
    "collapsed": false
   },
   "outputs": [],
   "source": [
    "\n",
    "# Steps completed\n",
    "binary_cols = [\"Progress_1_Invite_Intrvw\", \"Progress_2_Complete_Intrvw\", \"Progress_3_Accepted_toCorp\", \"Progress_4_Confirm_Offer\", \"Progress_5_Start_1stDay\", \"Progress_6_Complete_2yrs\"]\n",
    "for col in binary_cols:\n",
    "    df[col] = df[col].apply(lambda x: 1 if x == True or x == \"TRUE\" else 0)\n",
    "\n",
    "df[\"steps_completed\"] = df[\"Progress_1_Invite_Intrvw\"] + df[\"Progress_2_Complete_Intrvw\"] + df[\"Progress_3_Accepted_toCorp\"] +df[\"Progress_4_Confirm_Offer\"] + df[\"Progress_5_Start_1stDay\"]\n"
   ]
  },
  {
   "cell_type": "code",
   "execution_count": null,
   "metadata": {
    "collapsed": false
   },
   "outputs": [],
   "source": [
    "\n",
    "# Financial gap\n",
    "prev_LIC_level = {np.NAN: 0, \"LEVEL1\": 1, \"LEVEL2\": 2, \"LEVEL3\": 3}\n",
    "df[\"prev_LIC_level\"] = df[\"LIC_served_rating\"].map(prev_LIC_level)\n",
    "min = df.Cost.min()\n",
    "max = df.Cost.max()\n",
    "diff = (max-min)/3\n",
    "df[\"financial_gap\"] = df.apply(lambda x: x[\"Cost\"] - (min+(3-x[\"prev_LIC_level\"])*(diff)), axis=1)\n"
   ]
  },
  {
   "cell_type": "code",
   "execution_count": null,
   "metadata": {
    "collapsed": false
   },
   "outputs": [],
   "source": [
    "# Average dimensions score\n",
    "df[\"avg_dimension_score\"] = df[[\"SelectionDimension_1\", \"SelectionDimension_2\", \"SelectionDimension_3\", \"SelectionDimension_4\"]].mean(axis = 1, skipna=True)"
   ]
  },
  {
   "cell_type": "code",
   "execution_count": null,
   "metadata": {
    "collapsed": false
   },
   "outputs": [],
   "source": [
    "# Offer delay days\n",
    "df['ConfirmOffer_date'] = df['ConfirmOffer_date'].str.replace('-', '').astype(np.float).astype(\"Int32\")\n",
    "df[\"ConfirmOffer_date\"]=df[\"ConfirmOffer_date\"].replace(np.NAN, 0)\n",
    "df[\"offer_delay_days\"] = df[\"ConfirmOffer_date\"] - df[\"App_submit_date\"]\n",
    "df[\"offer_delay_days\"] = df[\"offer_delay_days\"].clip(lower=0)"
   ]
  },
  {
   "cell_type": "code",
   "execution_count": null,
   "metadata": {
    "collapsed": false
   },
   "outputs": [],
   "source": [
    "# Create application number column\n",
    "df['app_number'] = df.groupby('user_ID')['user_ID'].transform('count')"
   ]
  },
  {
   "cell_type": "code",
   "execution_count": null,
   "metadata": {
    "collapsed": false
   },
   "outputs": [],
   "source": [
    "# Ivy league school\n",
    "ivy_list = ['Brown University', 'Columbia University', 'Cornell University', 'Dartmouth College', 'Harvard University', 'University of Pennsylvania', 'Princeton University', 'Yale University']\n",
    "# Create a new column called 'Ivy_league' and set it to 1 if the school in UG_school_name is in the ivy_list\n",
    "df['Ivy_league'] = df['UG_school_name'].apply(lambda x: 1 if x in ivy_list else 0)"
   ]
  },
  {
   "cell_type": "markdown",
   "metadata": {
    "collapsed": false
   },
   "source": [
    "**Removing problematic candidate data**\n",
    "\n",
    "- Candidates with null values in 2YearCompletion\n",
    "- Candidates who started at 2019-2020 (COVID)\n",
    "- Candidates who started at 2022 (haven't finished yet)"
   ]
  },
  {
   "cell_type": "code",
   "execution_count": null,
   "metadata": {
    "collapsed": false
   },
   "outputs": [],
   "source": [
    "df = df.dropna(subset=['Progress_6_Complete_2yrs'])\n",
    "df.drop(df[df.App_year == 2019].index, inplace=True)\n",
    "df.drop(df[df.App_year == 2020].index, inplace=True)\n",
    "df.drop(df[df.App_year == 2022].index, inplace=True)"
   ]
  },
  {
   "cell_type": "markdown",
   "metadata": {
    "collapsed": false
   },
   "source": [
    "----------------------------------------------------------------------------------------- Export text-category dataset -----------------------------------------------------------------------------------------"
   ]
  },
  {
   "cell_type": "code",
   "execution_count": null,
   "metadata": {
    "collapsed": false
   },
   "outputs": [],
   "source": [
    "\"\"\"\n",
    "text_df = df[[\"career_level\", \"UG_school_name\", \"UG_school_selectivity\",\"UG_major_byGroup\",\"UG_major_bySchool\",\"UG_PellGrant\",\"LIC_served_self_report\",\"LIC_served_rating\"]]\n",
    "\n",
    "text_df.to_csv('text_df.csv', index=False)\n",
    "\"\"\""
   ]
  },
  {
   "cell_type": "markdown",
   "metadata": {
    "collapsed": false
   },
   "source": [
    "**Column transformation**"
   ]
  },
  {
   "cell_type": "code",
   "execution_count": null,
   "metadata": {
    "collapsed": false
   },
   "outputs": [],
   "source": [
    "# Encode career level\n",
    "career_level = {'Junior': 0, 'Co-terming Senior': 1, 'Undergrad': 2, 'Grad Student': 3, 'Professional': 4}\n",
    "df['career_level'] = df['career_level'].map(career_level)\n",
    "\n",
    "# Encode school selectivity\n",
    "df[\"UG_school_selectivity\"] = df[\"UG_school_selectivity\"].fillna(\"Unknown\")\n",
    "UG_school_selectivity = {\"Unknown\": 0, \"Least Selective\": 1, \"Less Selective\": 2, \"Selective\": 3, \"More Selective\": 4, \"Most Selective\": 5}\n",
    "df[\"UG_school_selectivity\"] = df[\"UG_school_selectivity\"].map(UG_school_selectivity)\n",
    "\n",
    "# Encode UG STEM, UG Sports, Leadership_role\n",
    "binary_cols = [\"UG_major_minor_STEM\", \"UG_sports\", \"Leadership_role\", \"family_responsibility\"]\n",
    "for col in binary_cols:\n",
    "    df[col] = df[col].apply(lambda x: 1 if x == \"Y\" else 0)\n",
    "\n",
    "# Encode Pellgrant\n",
    "UG_PellGrant = {\"NO\": 0, \"Y\": 0, \"PARTIAL\": 1, \"MAXIMUM\": 2}\n",
    "df[\"UG_PellGrant\"] = df[\"UG_PellGrant\"].map(UG_PellGrant)\n"
   ]
  },
  {
   "cell_type": "code",
   "execution_count": null,
   "metadata": {
    "collapsed": false
   },
   "outputs": [],
   "source": [
    "# High profile candidate\n",
    "mean = df['UG_GPA'].mean()\n",
    "df['high_profile'] = df.apply(lambda x: ( x['Ivy_league'] + (x['UG_school_selectivity']== 5) + (x['UG_GPA'] > mean)), axis=1)"
   ]
  },
  {
   "cell_type": "markdown",
   "metadata": {
    "collapsed": false
   },
   "source": [
    "**Drop unnecessary columns**"
   ]
  },
  {
   "cell_type": "code",
   "execution_count": null,
   "metadata": {
    "collapsed": false
   },
   "outputs": [],
   "source": [
    "df = df.drop([\"user_ID\", \"App_year\", \"UG_school_name\", \"UG_major_byGroup\", \"UG_major_bySchool\",\n",
    "              \"LIC_served_self_report\", \"LIC_served_rating\",\n",
    "              \"Preference_Region_level\", \"Preference_Region_rank\", \"Preferences_Subject_level\",\n",
    "              \"SelectionDimension_1\", \"SelectionDimension_2\", \"SelectionDimension_3\", \"SelectionDimension_4\",\n",
    "              \"Match_region\", \"Teach_region\", \"Teach_subject\"], axis=1)"
   ]
  },
  {
   "cell_type": "markdown",
   "metadata": {
    "collapsed": false
   },
   "source": [
    "--------------------------------------------------------------------------------------------- Export main dataset ---------------------------------------------------------------------------------------------"
   ]
  },
  {
   "cell_type": "code",
   "execution_count": null,
   "metadata": {
    "collapsed": false
   },
   "outputs": [],
   "source": [
    "df.to_csv('processed_df.csv', index=False)"
   ]
  }
 ],
 "metadata": {
  "kernelspec": {
   "display_name": "Python 3",
   "language": "python",
   "name": "python3"
  },
  "language_info": {
   "codemirror_mode": {
    "name": "ipython",
    "version": 3
   },
   "file_extension": ".py",
   "mimetype": "text/x-python",
   "name": "python",
   "nbconvert_exporter": "python",
   "pygments_lexer": "ipython3",
   "version": "3.7.13"
  },
  "vscode": {
   "interpreter": {
    "hash": "805ab787e7b2c169ffcd54665a62f6737584bdbffb8579ace331327af8e42d4f"
   }
  }
 },
 "nbformat": 4,
 "nbformat_minor": 0
}
